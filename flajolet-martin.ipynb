{
 "cells": [
  {
   "cell_type": "markdown",
   "metadata": {},
   "source": [
    "# Flajolet Martin Algorithm"
   ]
  },
  {
   "cell_type": "code",
   "execution_count": 1,
   "metadata": {},
   "outputs": [],
   "source": [
    "L = 64\n",
    "PHI = 1  # 0.77351"
   ]
  },
  {
   "cell_type": "code",
   "execution_count": 2,
   "metadata": {},
   "outputs": [],
   "source": [
    "import matplotlib.pyplot as plt\n",
    "\n",
    "def plot(x, y1, y2):\n",
    "    plt.ylabel('Count Distinct')\n",
    "    plt.plot(range(len(y1)), y1, label = \"Count Distinct (True)\")\n",
    "    plt.plot(range(len(y1)), y2, label = \"Count Distinct (FM)\")\n",
    "\n",
    "    plt.axes().get_xaxis().set_visible(False)\n",
    "    \n",
    "    plt.legend()\n",
    "    plt.show()"
   ]
  },
  {
   "cell_type": "code",
   "execution_count": 3,
   "metadata": {},
   "outputs": [],
   "source": [
    "import math\n",
    "\n",
    "def get_rightmost_set_bit(n: int) -> int:\n",
    "    if n == 0:\n",
    "        return L\n",
    "    return int(math.log2(n & -n) + 1) - 1\n",
    "\n",
    "\n",
    "def get_rightmost_unset_bit(n: int) -> int:\n",
    "    return get_rightmost_set_bit(~n)\n",
    "\n",
    "\n",
    "def set_bit(n: int, pos: int) -> int:\n",
    "    return n | 1 << pos"
   ]
  },
  {
   "cell_type": "code",
   "execution_count": 4,
   "metadata": {},
   "outputs": [],
   "source": [
    "import random\n",
    "\n",
    "\n",
    "def generate_random_stream(total_distinct: int):\n",
    "    values = list(range(total_distinct))\n",
    "    while True:\n",
    "        yield random.choice(values)"
   ]
  },
  {
   "cell_type": "code",
   "execution_count": 5,
   "metadata": {},
   "outputs": [],
   "source": [
    "def count_distinct_true(stream) -> int:\n",
    "    return len(set(stream))"
   ]
  },
  {
   "cell_type": "code",
   "execution_count": 6,
   "metadata": {},
   "outputs": [],
   "source": [
    "import hashlib\n",
    "\n",
    "def hash_fn(m: int, n: int, x: int, L: int) -> int:\n",
    "    return (m*x + n) % (2 ** L)"
   ]
  },
  {
   "cell_type": "code",
   "execution_count": 7,
   "metadata": {},
   "outputs": [
    {
     "data": {
      "text/plain": [
       "3"
      ]
     },
     "execution_count": 7,
     "metadata": {},
     "output_type": "execute_result"
    }
   ],
   "source": [
    "get_rightmost_set_bit(8)"
   ]
  },
  {
   "cell_type": "code",
   "execution_count": 8,
   "metadata": {},
   "outputs": [
    {
     "data": {
      "text/plain": [
       "1"
      ]
     },
     "execution_count": 8,
     "metadata": {},
     "output_type": "execute_result"
    }
   ],
   "source": [
    "get_rightmost_unset_bit(5)"
   ]
  },
  {
   "cell_type": "code",
   "execution_count": 9,
   "metadata": {},
   "outputs": [],
   "source": [
    "def count_distinct_fm(stream) -> int:\n",
    "    params = []\n",
    "    for _ in range(7):\n",
    "        params.append((2 * random.randint(0, 5) + 1, 2 * random.randint(0, 5) + 1))\n",
    "\n",
    "    estimates = []\n",
    "    for m, n in params:\n",
    "        vector, b = 0, 0\n",
    "        for x in stream:\n",
    "            y = hash_fn(m, n, x, L)\n",
    "            i = get_rightmost_set_bit(y)\n",
    "            vector = set_bit(vector, i)\n",
    "\n",
    "        b = get_rightmost_unset_bit(vector)\n",
    "        estimates.append(math.ceil((2 ** b) / PHI))\n",
    "    return sum(estimates) / len(estimates)"
   ]
  },
  {
   "cell_type": "code",
   "execution_count": 10,
   "metadata": {},
   "outputs": [
    {
     "name": "stderr",
     "output_type": "stream",
     "text": [
      "/Users/arpitbhayani/myw/flajolet-martin/venv/lib/python3.7/site-packages/ipykernel_launcher.py:8: MatplotlibDeprecationWarning: Adding an axes using the same arguments as a previous axes currently reuses the earlier instance.  In a future version, a new instance will always be created and returned.  Meanwhile, this warning can be suppressed, and the future behavior ensured, by passing a unique label to each axes instance.\n",
      "  \n"
     ]
    },
    {
     "data": {
      "image/png": "[encoded data removed]",
      "text/plain": [
       "<Figure size 432x288 with 1 Axes>"
      ]
     },
     "metadata": {
      "needs_background": "light"
     },
     "output_type": "display_data"
    }
   ],
   "source": [
    "y1, y2 = [], []\n",
    "\n",
    "total_distincts = range(1, 1024, 5)\n",
    "\n",
    "for true_distinct in total_distincts:\n",
    "    stream_gen = generate_random_stream(true_distinct)\n",
    "    stream = [next(stream_gen) for _ in range(1048)]\n",
    "\n",
    "    y1.append(count_distinct_true(stream))\n",
    "    y2.append(count_distinct_fm(stream))\n",
    "\n",
    "plot(total_distincts, y1, y2)"
   ]
  },
  {
   "cell_type": "code",
   "execution_count": 11,
   "metadata": {},
   "outputs": [],
   "source": [
    "import re\n",
    "\n",
    "with open('./jungle-book.txt', 'r') as f:\n",
    "    text = re.sub('[^a-zA-Z0-9 \\n\\.]', '', f.read())\n",
    "    tokens = text.split()"
   ]
  },
  {
   "cell_type": "code",
   "execution_count": 12,
   "metadata": {},
   "outputs": [
    {
     "data": {
      "text/plain": [
       "(53850, 7150)"
      ]
     },
     "execution_count": 12,
     "metadata": {},
     "output_type": "execute_result"
    }
   ],
   "source": [
    "len(tokens), len(set(tokens))"
   ]
  },
  {
   "cell_type": "code",
   "execution_count": 13,
   "metadata": {},
   "outputs": [
    {
     "data": {
      "text/plain": [
       "7606.857142857143"
      ]
     },
     "execution_count": 13,
     "metadata": {},
     "output_type": "execute_result"
    }
   ],
   "source": [
    "tokens_hashed = [int(hashlib.md5(token.encode()).hexdigest(), 16) % (2 ** L) for token in tokens]\n",
    "count_distinct_fm(tokens_hashed)"
   ]
  }
 ],
 "metadata": {
  "kernelspec": {
   "display_name": "Python 3",
   "language": "python",
   "name": "python3"
  },
  "language_info": {
   "codemirror_mode": {
    "name": "ipython",
    "version": 3
   },
   "file_extension": ".py",
   "mimetype": "text/x-python",
   "name": "python",
   "nbconvert_exporter": "python",
   "pygments_lexer": "ipython3",
   "version": "3.7.6"
  }
 },
 "nbformat": 4,
 "nbformat_minor": 4
}
